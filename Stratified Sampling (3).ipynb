{
 "cells": [
  {
   "cell_type": "markdown",
   "id": "0d6c6376-6125-40bb-a9e0-b6f5e564f8d1",
   "metadata": {},
   "source": [
    "#### DWM-08P: Take BreastCancer.csv file. (1) (a) Find which attributes should be trivially excluded for classification. (b) Divide the data into Training Set (70%) and Test Set (30%) using Stratified Sampling method. (2) Using Logistic Regression to train the model using the Training Set. (3) Write the Model and use the model for testing it using Test Set. Determine the accuracy of the Classifier."
   ]
  },
  {
   "cell_type": "code",
   "execution_count": 23,
   "id": "0a61d45f-88d6-406b-9fe0-e4bcf3736d78",
   "metadata": {},
   "outputs": [],
   "source": [
    "# Importing necessary libraries\n",
    "import numpy as np\n",
    "import pandas as pd\n",
    "import matplotlib.pyplot as plt\n",
    "import seaborn as sns"
   ]
  },
  {
   "cell_type": "code",
   "execution_count": 24,
   "id": "a06a1937-27b7-4b33-90e9-0d43e7bc53d9",
   "metadata": {},
   "outputs": [
    {
     "data": {
      "text/html": [
       "<div>\n",
       "<style scoped>\n",
       "    .dataframe tbody tr th:only-of-type {\n",
       "        vertical-align: middle;\n",
       "    }\n",
       "\n",
       "    .dataframe tbody tr th {\n",
       "        vertical-align: top;\n",
       "    }\n",
       "\n",
       "    .dataframe thead th {\n",
       "        text-align: right;\n",
       "    }\n",
       "</style>\n",
       "<table border=\"1\" class=\"dataframe\">\n",
       "  <thead>\n",
       "    <tr style=\"text-align: right;\">\n",
       "      <th></th>\n",
       "      <th>Unnamed: 0</th>\n",
       "      <th>Id</th>\n",
       "      <th>Cl.thickness</th>\n",
       "      <th>Cell.size</th>\n",
       "      <th>Cell.shape</th>\n",
       "      <th>Marg.adhesion</th>\n",
       "      <th>Epith.c.size</th>\n",
       "      <th>Bare.nuclei</th>\n",
       "      <th>Bl.cromatin</th>\n",
       "      <th>Normal.nucleoli</th>\n",
       "      <th>Mitoses</th>\n",
       "      <th>Class</th>\n",
       "    </tr>\n",
       "  </thead>\n",
       "  <tbody>\n",
       "    <tr>\n",
       "      <th>0</th>\n",
       "      <td>1</td>\n",
       "      <td>1000025</td>\n",
       "      <td>5</td>\n",
       "      <td>1</td>\n",
       "      <td>1</td>\n",
       "      <td>1</td>\n",
       "      <td>2</td>\n",
       "      <td>1.0</td>\n",
       "      <td>3</td>\n",
       "      <td>1</td>\n",
       "      <td>1</td>\n",
       "      <td>benign</td>\n",
       "    </tr>\n",
       "    <tr>\n",
       "      <th>1</th>\n",
       "      <td>2</td>\n",
       "      <td>1002945</td>\n",
       "      <td>5</td>\n",
       "      <td>4</td>\n",
       "      <td>4</td>\n",
       "      <td>5</td>\n",
       "      <td>7</td>\n",
       "      <td>10.0</td>\n",
       "      <td>3</td>\n",
       "      <td>2</td>\n",
       "      <td>1</td>\n",
       "      <td>benign</td>\n",
       "    </tr>\n",
       "    <tr>\n",
       "      <th>2</th>\n",
       "      <td>3</td>\n",
       "      <td>1015425</td>\n",
       "      <td>3</td>\n",
       "      <td>1</td>\n",
       "      <td>1</td>\n",
       "      <td>1</td>\n",
       "      <td>2</td>\n",
       "      <td>2.0</td>\n",
       "      <td>3</td>\n",
       "      <td>1</td>\n",
       "      <td>1</td>\n",
       "      <td>benign</td>\n",
       "    </tr>\n",
       "    <tr>\n",
       "      <th>3</th>\n",
       "      <td>4</td>\n",
       "      <td>1016277</td>\n",
       "      <td>6</td>\n",
       "      <td>8</td>\n",
       "      <td>8</td>\n",
       "      <td>1</td>\n",
       "      <td>3</td>\n",
       "      <td>4.0</td>\n",
       "      <td>3</td>\n",
       "      <td>7</td>\n",
       "      <td>1</td>\n",
       "      <td>benign</td>\n",
       "    </tr>\n",
       "    <tr>\n",
       "      <th>4</th>\n",
       "      <td>5</td>\n",
       "      <td>1017023</td>\n",
       "      <td>4</td>\n",
       "      <td>1</td>\n",
       "      <td>1</td>\n",
       "      <td>3</td>\n",
       "      <td>2</td>\n",
       "      <td>1.0</td>\n",
       "      <td>3</td>\n",
       "      <td>1</td>\n",
       "      <td>1</td>\n",
       "      <td>benign</td>\n",
       "    </tr>\n",
       "    <tr>\n",
       "      <th>...</th>\n",
       "      <td>...</td>\n",
       "      <td>...</td>\n",
       "      <td>...</td>\n",
       "      <td>...</td>\n",
       "      <td>...</td>\n",
       "      <td>...</td>\n",
       "      <td>...</td>\n",
       "      <td>...</td>\n",
       "      <td>...</td>\n",
       "      <td>...</td>\n",
       "      <td>...</td>\n",
       "      <td>...</td>\n",
       "    </tr>\n",
       "    <tr>\n",
       "      <th>694</th>\n",
       "      <td>695</td>\n",
       "      <td>776715</td>\n",
       "      <td>3</td>\n",
       "      <td>1</td>\n",
       "      <td>1</td>\n",
       "      <td>1</td>\n",
       "      <td>3</td>\n",
       "      <td>2.0</td>\n",
       "      <td>1</td>\n",
       "      <td>1</td>\n",
       "      <td>1</td>\n",
       "      <td>benign</td>\n",
       "    </tr>\n",
       "    <tr>\n",
       "      <th>695</th>\n",
       "      <td>696</td>\n",
       "      <td>841769</td>\n",
       "      <td>2</td>\n",
       "      <td>1</td>\n",
       "      <td>1</td>\n",
       "      <td>1</td>\n",
       "      <td>2</td>\n",
       "      <td>1.0</td>\n",
       "      <td>1</td>\n",
       "      <td>1</td>\n",
       "      <td>1</td>\n",
       "      <td>benign</td>\n",
       "    </tr>\n",
       "    <tr>\n",
       "      <th>696</th>\n",
       "      <td>697</td>\n",
       "      <td>888820</td>\n",
       "      <td>5</td>\n",
       "      <td>10</td>\n",
       "      <td>10</td>\n",
       "      <td>3</td>\n",
       "      <td>7</td>\n",
       "      <td>3.0</td>\n",
       "      <td>8</td>\n",
       "      <td>10</td>\n",
       "      <td>2</td>\n",
       "      <td>malignant</td>\n",
       "    </tr>\n",
       "    <tr>\n",
       "      <th>697</th>\n",
       "      <td>698</td>\n",
       "      <td>897471</td>\n",
       "      <td>4</td>\n",
       "      <td>8</td>\n",
       "      <td>6</td>\n",
       "      <td>4</td>\n",
       "      <td>3</td>\n",
       "      <td>4.0</td>\n",
       "      <td>10</td>\n",
       "      <td>6</td>\n",
       "      <td>1</td>\n",
       "      <td>malignant</td>\n",
       "    </tr>\n",
       "    <tr>\n",
       "      <th>698</th>\n",
       "      <td>699</td>\n",
       "      <td>897471</td>\n",
       "      <td>4</td>\n",
       "      <td>8</td>\n",
       "      <td>8</td>\n",
       "      <td>5</td>\n",
       "      <td>4</td>\n",
       "      <td>5.0</td>\n",
       "      <td>10</td>\n",
       "      <td>4</td>\n",
       "      <td>1</td>\n",
       "      <td>malignant</td>\n",
       "    </tr>\n",
       "  </tbody>\n",
       "</table>\n",
       "<p>699 rows × 12 columns</p>\n",
       "</div>"
      ],
      "text/plain": [
       "     Unnamed: 0       Id  Cl.thickness  Cell.size  Cell.shape  Marg.adhesion  \\\n",
       "0             1  1000025             5          1           1              1   \n",
       "1             2  1002945             5          4           4              5   \n",
       "2             3  1015425             3          1           1              1   \n",
       "3             4  1016277             6          8           8              1   \n",
       "4             5  1017023             4          1           1              3   \n",
       "..          ...      ...           ...        ...         ...            ...   \n",
       "694         695   776715             3          1           1              1   \n",
       "695         696   841769             2          1           1              1   \n",
       "696         697   888820             5         10          10              3   \n",
       "697         698   897471             4          8           6              4   \n",
       "698         699   897471             4          8           8              5   \n",
       "\n",
       "     Epith.c.size  Bare.nuclei  Bl.cromatin  Normal.nucleoli  Mitoses  \\\n",
       "0               2          1.0            3                1        1   \n",
       "1               7         10.0            3                2        1   \n",
       "2               2          2.0            3                1        1   \n",
       "3               3          4.0            3                7        1   \n",
       "4               2          1.0            3                1        1   \n",
       "..            ...          ...          ...              ...      ...   \n",
       "694             3          2.0            1                1        1   \n",
       "695             2          1.0            1                1        1   \n",
       "696             7          3.0            8               10        2   \n",
       "697             3          4.0           10                6        1   \n",
       "698             4          5.0           10                4        1   \n",
       "\n",
       "         Class  \n",
       "0       benign  \n",
       "1       benign  \n",
       "2       benign  \n",
       "3       benign  \n",
       "4       benign  \n",
       "..         ...  \n",
       "694     benign  \n",
       "695     benign  \n",
       "696  malignant  \n",
       "697  malignant  \n",
       "698  malignant  \n",
       "\n",
       "[699 rows x 12 columns]"
      ]
     },
     "execution_count": 24,
     "metadata": {},
     "output_type": "execute_result"
    }
   ],
   "source": [
    "# Importing dataset\n",
    "data = pd.read_csv('BreastCancer.csv')\n",
    "data"
   ]
  },
  {
   "cell_type": "code",
   "execution_count": 25,
   "id": "710eade6-0049-4ead-8b69-320ca483adfc",
   "metadata": {},
   "outputs": [],
   "source": [
    "# Deletig the column that has the index\n",
    "data = data.drop('Unnamed: 0',axis=1)"
   ]
  },
  {
   "cell_type": "code",
   "execution_count": 26,
   "id": "d62e994e-ceff-4ecc-b1ee-15476efbd07e",
   "metadata": {},
   "outputs": [
    {
     "data": {
      "text/plain": [
       "Id                  0\n",
       "Cl.thickness        0\n",
       "Cell.size           0\n",
       "Cell.shape          0\n",
       "Marg.adhesion       0\n",
       "Epith.c.size        0\n",
       "Bare.nuclei        16\n",
       "Bl.cromatin         0\n",
       "Normal.nucleoli     0\n",
       "Mitoses             0\n",
       "Class               0\n",
       "dtype: int64"
      ]
     },
     "execution_count": 26,
     "metadata": {},
     "output_type": "execute_result"
    }
   ],
   "source": [
    "# Checking for any null values\n",
    "data.isnull().sum()"
   ]
  },
  {
   "cell_type": "code",
   "execution_count": 27,
   "id": "898e19c2-5651-485d-90b0-8e4e4e7fefeb",
   "metadata": {},
   "outputs": [],
   "source": [
    "# Handling the null values in Bare.nuclei and replacing Nan with the mean of the column \n",
    "# data['Bare.nuclei'].fillna(data['Bare.nuclei'].median(), inplace=True)\n",
    "def fill_na_with_class_mean(df, column, class_column):\n",
    "    # Calculate the mean of the column for each class\n",
    "    class_means = df.groupby(class_column)[column].mean()\n",
    "    \n",
    "    # Define a function that will be applied to each row\n",
    "    def fill_na(row):\n",
    "        # If the value in the specified column is NaN, replace it with the class mean\n",
    "        if pd.isnull(row[column]):\n",
    "            return class_means[row[class_column]]\n",
    "        else:\n",
    "            return row[column]\n",
    "    \n",
    "    # Apply the function to the DataFrame\n",
    "    df[column] = df.apply(fill_na, axis=1)"
   ]
  },
  {
   "cell_type": "code",
   "execution_count": 28,
   "id": "c78c1db8-3a30-4138-9536-5a3ef4b89f26",
   "metadata": {},
   "outputs": [
    {
     "data": {
      "text/plain": [
       "Class\n",
       "benign       1.346847\n",
       "malignant    7.627615\n",
       "Name: Bare.nuclei, dtype: float64"
      ]
     },
     "execution_count": 28,
     "metadata": {},
     "output_type": "execute_result"
    }
   ],
   "source": [
    "# Checking the average of class benign and malignant\n",
    "t = data.groupby('Class')['Bare.nuclei'].mean()\n",
    "t"
   ]
  },
  {
   "cell_type": "code",
   "execution_count": 29,
   "id": "4ab12b3a-ddc4-44e4-865f-df7b4c93fdb1",
   "metadata": {},
   "outputs": [],
   "source": [
    "# Calling the function defined above filling the null values\n",
    "fill_na_with_class_mean(data, 'Bare.nuclei', 'Class')"
   ]
  },
  {
   "cell_type": "code",
   "execution_count": 30,
   "id": "5cf31024-b800-408a-8af6-7d80985ecddd",
   "metadata": {},
   "outputs": [
    {
     "data": {
      "text/plain": [
       "Id                 0\n",
       "Cl.thickness       0\n",
       "Cell.size          0\n",
       "Cell.shape         0\n",
       "Marg.adhesion      0\n",
       "Epith.c.size       0\n",
       "Bare.nuclei        0\n",
       "Bl.cromatin        0\n",
       "Normal.nucleoli    0\n",
       "Mitoses            0\n",
       "Class              0\n",
       "dtype: int64"
      ]
     },
     "execution_count": 30,
     "metadata": {},
     "output_type": "execute_result"
    }
   ],
   "source": [
    "# Rechecking that all the null values are replaced \n",
    "data.isnull().sum()"
   ]
  },
  {
   "cell_type": "code",
   "execution_count": 31,
   "id": "6b3221f6-6aa9-47c8-bef3-fefc0af4b1fe",
   "metadata": {},
   "outputs": [
    {
     "data": {
      "text/plain": [
       "1.900414937759336"
      ]
     },
     "execution_count": 31,
     "metadata": {},
     "output_type": "execute_result"
    }
   ],
   "source": [
    "# Calculating the ration of benign is to malignant\n",
    "ratio = (data['Class'] == 'benign').sum() / (data['Class'] == 'malignant').sum()\n",
    "ratio # Ratio = 458 / 241"
   ]
  },
  {
   "cell_type": "code",
   "execution_count": 32,
   "id": "3f5586a0-12da-448b-bbf3-d41dbd610ed2",
   "metadata": {},
   "outputs": [],
   "source": [
    "# There is no need of encoding Class column as it is the dependent variable(y)\n",
    "# But we encode the Class column to find correlation and make a heatmap\n",
    "from sklearn.preprocessing import LabelEncoder\n",
    "le = LabelEncoder()\n",
    "data['Class_enc'] = le.fit_transform(data['Class'])"
   ]
  },
  {
   "cell_type": "code",
   "execution_count": 33,
   "id": "8cd54668-0634-4063-8a97-b396d95f6d87",
   "metadata": {},
   "outputs": [],
   "source": [
    "# Deleting the Class column as we encoded it in Class_enc\n",
    "data = data.drop('Class', axis=1)"
   ]
  },
  {
   "cell_type": "code",
   "execution_count": 34,
   "id": "0eef9b97-83be-455d-a2db-c60093923f21",
   "metadata": {},
   "outputs": [
    {
     "data": {
      "text/plain": [
       "<Axes: >"
      ]
     },
     "execution_count": 34,
     "metadata": {},
     "output_type": "execute_result"
    },
    {
     "data": {
      "image/png": "[encoded data removed]",
      "text/plain": [
       "<Figure size 3000x2000 with 2 Axes>"
      ]
     },
     "metadata": {},
     "output_type": "display_data"
    }
   ],
   "source": [
    "# Plotting a heatmap\n",
    "x = data.corr()\n",
    "plt.figure(figsize=(30, 20))\n",
    "sns.heatmap(x,annot=True,cmap='coolwarm')"
   ]
  },
  {
   "cell_type": "code",
   "execution_count": 35,
   "id": "27100288-2f38-49a9-abc8-f04dd71bbbeb",
   "metadata": {},
   "outputs": [
    {
     "name": "stdout",
     "output_type": "stream",
     "text": [
      "Id                 0.080226\n",
      "Mitoses            0.423170\n",
      "Epith.c.size       0.682785\n",
      "Marg.adhesion      0.696800\n",
      "Normal.nucleoli    0.712244\n",
      "Cl.thickness       0.716001\n",
      "Bl.cromatin        0.756616\n",
      "Cell.size          0.817904\n",
      "Cell.shape         0.818934\n",
      "Bare.nuclei        0.824843\n",
      "Class_enc          1.000000\n",
      "Name: Class_enc, dtype: float64\n"
     ]
    }
   ],
   "source": [
    "# Finding the correlation of all the columns with the Class column\n",
    "correlations = data.corr()['Class_enc'].abs().sort_values()\n",
    "\n",
    "# Print the correlations\n",
    "print(correlations)"
   ]
  },
  {
   "cell_type": "code",
   "execution_count": 36,
   "id": "2e173dda-1dca-4192-b034-5cdd7fa0b130",
   "metadata": {},
   "outputs": [
    {
     "data": {
      "text/plain": [
       "['Id']"
      ]
     },
     "execution_count": 36,
     "metadata": {},
     "output_type": "execute_result"
    }
   ],
   "source": [
    "# Filtering out the columns that have correlation of less than 0.4 with Class_enc\n",
    "low_correlation_cols = correlations[correlations < 0.4].index.tolist()\n",
    "low_correlation_cols"
   ]
  },
  {
   "cell_type": "code",
   "execution_count": 37,
   "id": "2c55183b-9218-466e-93b5-c28d61816272",
   "metadata": {},
   "outputs": [],
   "source": [
    "# We have deleted all the columns that have correlation less than 0.4 with the Class_enc\n",
    "data1 = data.drop(low_correlation_cols,axis=1)"
   ]
  },
  {
   "cell_type": "code",
   "execution_count": 38,
   "id": "29387e77-6bb2-4d1f-a462-bca06333c9ef",
   "metadata": {},
   "outputs": [],
   "source": [
    "# Defining the independent variable (X) and dependent variable (y)\n",
    "X = data1.drop([\"Class_enc\"], axis = 1)\n",
    "y = data1[\"Class_enc\"]\n",
    "\n",
    "# Splitting the dataset into 70% training and 30% testing data with use of stratified sampling method\n",
    "from sklearn.model_selection import train_test_split\n",
    "X_train, X_test, y_train,y_test = train_test_split(X, y, test_size=0.3, stratify=y)"
   ]
  },
  {
   "cell_type": "code",
   "execution_count": 39,
   "id": "3f6cb6c2-cd3c-410c-9d23-3b5d331dc40f",
   "metadata": {},
   "outputs": [],
   "source": [
    "# Calling the Logistic Regression algorithm from sklearn library\n",
    "# Passing the output of Linear regression to sigmoid function gives output of Logistic regression \n",
    "# Then adding gradient descent and recalculating the weights and bias\n",
    "from sklearn.linear_model import LogisticRegression\n",
    "reg = LogisticRegression()\n",
    "# Using the fit function to fit and train the training data to Logistic Regression algorithm\n",
    "reg.fit(X_train,y_train)\n",
    "# Using predict function to predict the test data and save it in y_pred variable\n",
    "y_pred_lr = reg.predict(X_test)"
   ]
  },
  {
   "cell_type": "code",
   "execution_count": 40,
   "id": "0ebc7aaf-b418-47bb-aae1-c4b02abe0cd1",
   "metadata": {},
   "outputs": [
    {
     "name": "stdout",
     "output_type": "stream",
     "text": [
      "Accuracy of the Classifier: 0.9714285714285714\n"
     ]
    }
   ],
   "source": [
    "# Using the accuracy_score funtion to find the accuracy of the model \n",
    "# accuracy_score = no. of correct prediction(TP + TN)/Total no. of predictions(TP+TN+FP+FN) \n",
    "from sklearn.metrics import accuracy_score\n",
    "accuracy = accuracy_score(y_test, y_pred_lr)\n",
    "print(f'Accuracy of the Classifier: {accuracy}')"
   ]
  },
  {
   "cell_type": "code",
   "execution_count": 41,
   "id": "faf73651-6bc6-4218-af09-390beab5eaa6",
   "metadata": {},
   "outputs": [
    {
     "data": {
      "text/plain": [
       "array([[133,   5],\n",
       "       [  1,  71]], dtype=int64)"
      ]
     },
     "execution_count": 41,
     "metadata": {},
     "output_type": "execute_result"
    }
   ],
   "source": [
    "# Making a Confusion Matrix to check the FP and FN \n",
    "from sklearn.metrics import confusion_matrix\n",
    "cm_lr = confusion_matrix(y_test, y_pred_lr)\n",
    "cm_lr"
   ]
  },
  {
   "cell_type": "code",
   "execution_count": 45,
   "id": "e23ef735-4cae-43d1-9adf-c6fc45c13c6f",
   "metadata": {},
   "outputs": [
    {
     "name": "stdout",
     "output_type": "stream",
     "text": [
      "Random Forest Accuracy: 0.976\n"
     ]
    }
   ],
   "source": [
    "# Bagging using RandomForest Classifier\n",
    "from sklearn.ensemble import RandomForestClassifier\n",
    "random_forest = RandomForestClassifier(n_estimators=100, random_state=42)\n",
    "random_forest.fit(X_train, y_train)\n",
    "y_pred_rf = random_forest.predict(X_test)\n",
    "print(f\"Random Forest Accuracy: {accuracy_score(y_test, y_pred_rf):.3f}\")"
   ]
  },
  {
   "cell_type": "code",
   "execution_count": 46,
   "id": "ad79c013-569c-4adb-94ed-b1afc6e4171f",
   "metadata": {},
   "outputs": [
    {
     "data": {
      "text/plain": [
       "array([[133,   5],\n",
       "       [  0,  72]], dtype=int64)"
      ]
     },
     "execution_count": 46,
     "metadata": {},
     "output_type": "execute_result"
    }
   ],
   "source": [
    "cm_rf = confusion_matrix(y_test, y_pred_rf)\n",
    "cm_rf"
   ]
  },
  {
   "cell_type": "code",
   "execution_count": 48,
   "id": "af75b1bd-ead9-4ae9-8396-14704aaec1f7",
   "metadata": {},
   "outputs": [
    {
     "name": "stdout",
     "output_type": "stream",
     "text": [
      "Prediction of Logistic Regression: [0]\n",
      "Prediction of Random Forest Classifier: [0]\n"
     ]
    }
   ],
   "source": [
    "# Create a DataFrame for custom input data\n",
    "custom_input = pd.DataFrame({\n",
    "    'Cl.thickness': [3],\n",
    "    'Cell.size': [1],\n",
    "    'Cell.shape': [1],\n",
    "    'Marg.adhesion': [1],\n",
    "    'Epith.c.size': [2],\n",
    "    'Bare.nuclei': [1],  # This value can vary depending on the dataset, ensure it's appropriate\n",
    "    'Bl.cromatin': [3],\n",
    "    'Normal.nucleoli': [1],\n",
    "    'Mitoses': [1]\n",
    "})\n",
    "\n",
    "# Make predictions using the trained Logistic Regression\n",
    "pred_reg = reg.predict(custom_input)\n",
    "# Make predictions using the trained Random Forest classifier\n",
    "pred_rf = random_forest.predict(custom_input)\n",
    "\n",
    "# Print the predictions\n",
    "print(\"Prediction of Logistic Regression:\", pred_reg)\n",
    "print(\"Prediction of Random Forest Classifier:\", pred_rf)"
   ]
  }
 ],
 "metadata": {
  "kernelspec": {
   "display_name": "Python 3 (ipykernel)",
   "language": "python",
   "name": "python3"
  },
  "language_info": {
   "codemirror_mode": {
    "name": "ipython",
    "version": 3
   },
   "file_extension": ".py",
   "mimetype": "text/x-python",
   "name": "python",
   "nbconvert_exporter": "python",
   "pygments_lexer": "ipython3",
   "version": "3.9.18"
  }
 },
 "nbformat": 4,
 "nbformat_minor": 5
}
